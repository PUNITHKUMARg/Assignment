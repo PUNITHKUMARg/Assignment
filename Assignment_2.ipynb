{
  "nbformat": 4,
  "nbformat_minor": 0,
  "metadata": {
    "colab": {
      "provenance": [],
      "toc_visible": true
    },
    "kernelspec": {
      "name": "python3",
      "display_name": "Python 3"
    },
    "language_info": {
      "name": "python"
    }
  },
  "cells": [
    {
      "cell_type": "markdown",
      "source": [
        "**1.What are the two values of the Boolean data type? How do you write them?**"
      ],
      "metadata": {
        "id": "yqrA6JncSNI6"
      }
    },
    {
      "cell_type": "markdown",
      "source": [
        "True and False are the two value of the boolean data type, that are hashable and non-mutable data type . They are written as True  False , with the first letter capitalized."
      ],
      "metadata": {
        "id": "wgxIhZnHSY1q"
      }
    },
    {
      "cell_type": "markdown",
      "source": [
        "**2. What are the three different types of Boolean operators?**"
      ],
      "metadata": {
        "id": "MX8nT4_rWBAD"
      }
    },
    {
      "cell_type": "markdown",
      "source": [
        "and ,or ,not are the three different types of Boolean operators.and operator returns True if both operands are True,or operator returns True if at least one of the operands is True , not operator returns the opposite Boolean value of its operand."
      ],
      "metadata": {
        "id": "kLwJHqX7WXFM"
      }
    },
    {
      "cell_type": "markdown",
      "source": [
        "**3. Make a list of each Boolean operator&#39;s truth tables (i.e. every possible combination of Boolean\n",
        "values for the operator and what it evaluate ).**"
      ],
      "metadata": {
        "id": "vx-sarDqXRtr"
      }
    },
    {
      "cell_type": "markdown",
      "source": [
        "\n",
        "**AND**\n",
        "\n",
        "\n",
        "*   a = True ,b = True , **a AND b = True**\n",
        "*  a = True ,b = False , **a AND b = False**\n",
        "*   a = False ,b = True , **a AND b = False**\n",
        "*  a = False , b = False ,**a AND b = False**\n",
        "\n",
        "**OR**\n",
        "\n",
        "*   a = True ,b = True , **a OR b = True**\n",
        "*  a = True ,b = False , **a OR b = True**\n",
        "*   a = False ,b = True , **a OR b = True**\n",
        "*  a = False , b = False ,**a OR b = False**\n",
        "\n",
        "**NOT**\n",
        "*   a = True , **not a  = False**\n",
        "*  a = False , **not a  = True**\n",
        "\n",
        "\n",
        "\n",
        "\n",
        "\n",
        "\n"
      ],
      "metadata": {
        "id": "Hbr0veCGXfkC"
      }
    },
    {
      "cell_type": "code",
      "source": [],
      "metadata": {
        "id": "koZHP2WYYUXN"
      },
      "execution_count": null,
      "outputs": []
    },
    {
      "cell_type": "markdown",
      "source": [
        "![Capture.PNG](data:image/png;base64,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)"
      ],
      "metadata": {
        "id": "smAyeUouaAeq"
      }
    },
    {
      "cell_type": "markdown",
      "source": [
        "(5>4) and (3==5)  is  False"
      ],
      "metadata": {
        "id": "dfcYseyXaHlb"
      }
    },
    {
      "cell_type": "markdown",
      "source": [
        "not (5 > 4)  is  False"
      ],
      "metadata": {
        "id": "yVyV2pEqb6kS"
      }
    },
    {
      "cell_type": "markdown",
      "source": [
        "\n",
        "(5 > 4) or (3 == 5) is  True\n",
        "\n"
      ],
      "metadata": {
        "id": "jRnT86GOb63R"
      }
    },
    {
      "cell_type": "markdown",
      "source": [
        "not ((5 > 4) or (3 == 5)) is False"
      ],
      "metadata": {
        "id": "W79Esjwib7Aq"
      }
    },
    {
      "cell_type": "markdown",
      "source": [
        "(True and True) and (True == False) is False"
      ],
      "metadata": {
        "id": "jt3UiPaSb7Fu"
      }
    },
    {
      "cell_type": "markdown",
      "source": [
        "(not False) or (not True)  is True"
      ],
      "metadata": {
        "id": "ef6vCmYbb7JS"
      }
    },
    {
      "cell_type": "markdown",
      "source": [
        "**5. What are the six comparison operators?**"
      ],
      "metadata": {
        "id": "GFXVj4qLb7O0"
      }
    },
    {
      "cell_type": "markdown",
      "source": [
        "\n",
        "\n",
        "1.Equal to (==) is to  Checks if two values are equal.\n",
        "\n",
        "2.Not equal to (!=)is to  Checks if two values are not equal.\n",
        "\n",
        "3.Greater than (>) is to Checks if the left operand is greater than the right operand.\n",
        "\n",
        "4.Less than (<)is to  Checks if the left operand is less than the right operand.\n",
        "\n",
        "5.Greater than or equal to (>=) is to  Checks if the left operand is greater than or equal to the right operand.\n",
        "\n",
        "6.Less than or equal to (<=) is to Checks if the left operand is less than or equal to the right operand.\n",
        "\n",
        "\n"
      ],
      "metadata": {
        "id": "mL-2u7drdEDz"
      }
    },
    {
      "cell_type": "markdown",
      "source": [
        "**6. How do you tell the difference between the equal to and assignment operators?Describe a\n",
        "condition and when you would use one.**"
      ],
      "metadata": {
        "id": "YJNsK3H9eJaz"
      }
    },
    {
      "cell_type": "markdown",
      "source": [
        "Equal to Operator (==):\n",
        "\n",
        "The equality operator is used to compare two values to determine if they are equal.\n",
        "It returns True if the values are equal and False otherwise.\n",
        "It is used in conditional statements, comparisons, and boolean expressions to test equality.\n",
        "Example: if x == y: checks if the value of x is equal to the value of y.\n",
        "\n",
        "\n",
        "Assignment Operator (=):\n",
        "\n",
        "The assignment operator is used to assign a value to a variable.![.qw.PNG](data:image/png;base64,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)\n",
        "Example: x = 10 assigns the value 10 to the variable x."
      ],
      "metadata": {
        "id": "pSQOKRcogtW5"
      }
    },
    {
      "cell_type": "code",
      "source": [
        "spam = 0\n",
        "if spam == 10:\n",
        "    print('eggs')\n",
        "if spam > 5:\n",
        "  print('bacon')\n",
        "else:\n",
        "  print('ham')\n",
        "  print('spam')\n",
        "print('spam')"
      ],
      "metadata": {
        "colab": {
          "base_uri": "https://localhost:8080/"
        },
        "id": "DMFKANxOuHqI",
        "outputId": "3fa9f4b7-4a7b-47d4-9b2a-33ded059a901"
      },
      "execution_count": null,
      "outputs": [
        {
          "output_type": "stream",
          "name": "stdout",
          "text": [
            "ham\n",
            "spam\n",
            "spam\n"
          ]
        }
      ]
    },
    {
      "cell_type": "markdown",
      "source": [
        "\n",
        "1.   Block 1:\n",
        "*  if spam == 10\n",
        "*   print('eggs')\n",
        "2.   Block 2:\n",
        "*    if spam > 5:\n",
        "*   print('bacon')\n",
        "3.  Block 3:\n",
        "*    else:\n",
        "*    print('ham')\n",
        "\n",
        "\n"
      ],
      "metadata": {
        "id": "6zhkORrZt1rY"
      }
    },
    {
      "cell_type": "markdown",
      "source": [
        "**8. Write code that prints Hello if 1 is stored in spam, prints Howdy if 2 is stored in spam, and prints\n",
        "Greetings! if anything else is stored in spam.**"
      ],
      "metadata": {
        "id": "0TBbNOTWsN05"
      }
    },
    {
      "cell_type": "code",
      "source": [
        "spam = int(input(print('please enter a number =')))\n",
        "\n",
        "if spam == 1:\n",
        "    print(\"Hello\")\n",
        "elif spam == 2:\n",
        "    print(\"Howdy\")\n",
        "else:\n",
        "    print(\"Greetings!\")"
      ],
      "metadata": {
        "colab": {
          "base_uri": "https://localhost:8080/"
        },
        "id": "dA4p7AvWtV_g",
        "outputId": "dabaef7a-791e-4862-f79c-4282e141a054"
      },
      "execution_count": null,
      "outputs": [
        {
          "output_type": "stream",
          "name": "stdout",
          "text": [
            "please enter a number =\n",
            "None3\n",
            "Greetings!\n"
          ]
        }
      ]
    },
    {
      "cell_type": "markdown",
      "source": [
        "**9.If your programme is stuck in an endless loop, what keys you’ll press?**"
      ],
      "metadata": {
        "id": "j5U6M9CiwPYa"
      }
    },
    {
      "cell_type": "markdown",
      "source": [
        "Ctrl + C"
      ],
      "metadata": {
        "id": "lQ3HzCexxLLp"
      }
    },
    {
      "cell_type": "markdown",
      "source": [
        "**10. How can you tell the difference between break and continue?**"
      ],
      "metadata": {
        "id": "i3ZKiDwCxMlR"
      }
    },
    {
      "cell_type": "markdown",
      "source": [
        "**Break** terminates the loop immediately and moves to the first statement after the loop.\n",
        "\n",
        "**Continue** skips the rest of the current iteration and moves to the next iteration of the loop."
      ],
      "metadata": {
        "id": "20QnviwXxXCK"
      }
    },
    {
      "cell_type": "markdown",
      "source": [
        "**11. In a for loop, what is the difference between range(10), range(0, 10), and range(0, 10, 1)?**"
      ],
      "metadata": {
        "id": "tFb0o16W3z-B"
      }
    },
    {
      "cell_type": "markdown",
      "source": [
        "**range(10):**\n",
        "\n",
        "This generates a sequence of numbers starting from 0 up to 9, but not including 10.\n",
        "\n",
        "**range(0, 10):**\n",
        "\n",
        "This explicitly specifies the start value as 0 and the stop value as 10.\n",
        "\n",
        "**range(0, 10, 1):**\n",
        "\n",
        "This explicitly specifies the start value as 0, the stop value as 10, and the step size as 1.\n",
        "\n"
      ],
      "metadata": {
        "id": "snu82Upt32kB"
      }
    },
    {
      "cell_type": "markdown",
      "source": [
        "**12. Write a short program that prints the numbers 1 to 10 using a for loop. Then write an equivalent\n",
        "program that prints the numbers 1 to 10 using a while loop.**"
      ],
      "metadata": {
        "id": "60UmBzrJ7fhc"
      }
    },
    {
      "cell_type": "code",
      "source": [
        "for i in range(1, 11):\n",
        "    print(i)"
      ],
      "metadata": {
        "colab": {
          "base_uri": "https://localhost:8080/"
        },
        "id": "2jmgytpMv4Wl",
        "outputId": "6069308b-3c5d-49d2-bc11-c91e312d157c"
      },
      "execution_count": 1,
      "outputs": [
        {
          "output_type": "stream",
          "name": "stdout",
          "text": [
            "1\n",
            "2\n",
            "3\n",
            "4\n",
            "5\n",
            "6\n",
            "7\n",
            "8\n",
            "9\n",
            "10\n"
          ]
        }
      ]
    },
    {
      "cell_type": "code",
      "source": [
        "i =1\n",
        "while i<=10:\n",
        "  print(i)\n",
        "  i += 1"
      ],
      "metadata": {
        "colab": {
          "base_uri": "https://localhost:8080/"
        },
        "id": "NfhLwLdywFAs",
        "outputId": "264c9b59-a7da-4082-be68-062efa35534f"
      },
      "execution_count": 3,
      "outputs": [
        {
          "output_type": "stream",
          "name": "stdout",
          "text": [
            "1\n",
            "2\n",
            "3\n",
            "4\n",
            "5\n",
            "6\n",
            "7\n",
            "8\n",
            "9\n",
            "10\n"
          ]
        }
      ]
    },
    {
      "cell_type": "markdown",
      "source": [
        "**13. If you had a function named bacon() inside a module named spam, how would you call it after\n",
        "importing spam?**"
      ],
      "metadata": {
        "id": "YAwRambXwbZb"
      }
    },
    {
      "cell_type": "code",
      "source": [
        "import spam\n",
        "\n",
        "spam.bacon()"
      ],
      "metadata": {
        "id": "12JY3SkTxHky"
      },
      "execution_count": null,
      "outputs": []
    }
  ]
}